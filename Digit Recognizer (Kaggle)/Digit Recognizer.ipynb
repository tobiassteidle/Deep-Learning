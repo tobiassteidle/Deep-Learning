{
 "cells": [
  {
   "cell_type": "code",
   "execution_count": null,
   "metadata": {},
   "outputs": [],
   "source": []
  },
  {
   "cell_type": "code",
   "execution_count": 1,
   "metadata": {},
   "outputs": [
    {
     "name": "stderr",
     "output_type": "stream",
     "text": [
      "Using TensorFlow backend.\n"
     ]
    }
   ],
   "source": [
    "import keras\n",
    "from keras.models import Sequential\n",
    "from keras.layers import Dense, Dropout, Flatten\n",
    "from keras.layers import Conv2D, MaxPooling2D\n",
    "from keras import backend as K\n",
    "from keras.preprocessing.image import ImageDataGenerator\n",
    "import pandas as pd\n",
    "import numpy as np\n",
    "import matplotlib.pyplot as plt, matplotlib.image as mpimg\n",
    "from sklearn.model_selection import train_test_split\n",
    "%matplotlib inline"
   ]
  },
  {
   "cell_type": "code",
   "execution_count": 2,
   "metadata": {},
   "outputs": [
    {
     "name": "stderr",
     "output_type": "stream",
     "text": [
      "/Users/tsteidle/miniconda2/envs/drlnd/lib/python3.6/site-packages/sklearn/model_selection/_split.py:2069: FutureWarning: From version 0.21, test_size will always complement train_size unless both are specified.\n",
      "  FutureWarning)\n"
     ]
    }
   ],
   "source": [
    "# load training data\n",
    "labeled_images = pd.read_csv('data/train.csv')\n",
    "images = labeled_images.iloc[0:5000,1:]\n",
    "labels = labeled_images.iloc[0:5000,:1]\n",
    "\n",
    "x_train, x_test, y_train, y_test = train_test_split(images, labels, train_size=0.8, random_state=0)"
   ]
  },
  {
   "cell_type": "code",
   "execution_count": 3,
   "metadata": {},
   "outputs": [],
   "source": [
    "batch_size = 128\n",
    "num_classes = 10\n",
    "epochs = 12\n",
    "\n",
    "# input image dimensions\n",
    "img_rows, img_cols = 28, 28"
   ]
  },
  {
   "cell_type": "code",
   "execution_count": 4,
   "metadata": {},
   "outputs": [],
   "source": [
    "# reshape images\n",
    "x_train = x_train.values.reshape(x_train.shape[0], img_rows, img_cols, 1)\n",
    "x_test = x_test.values.reshape(x_test.shape[0], img_rows, img_cols, 1)\n",
    "input_shape = (img_rows, img_cols, 1)"
   ]
  },
  {
   "cell_type": "code",
   "execution_count": 5,
   "metadata": {},
   "outputs": [
    {
     "name": "stdout",
     "output_type": "stream",
     "text": [
      "x_train shape: (4000, 28, 28, 1)\n",
      "x_train shape: (1000, 28, 28, 1)\n",
      "4000 train samples\n",
      "1000 test samples\n"
     ]
    }
   ],
   "source": [
    "x_train = x_train.astype('float32')\n",
    "x_test = x_test.astype('float32')\n",
    "x_train /= 255\n",
    "x_test /= 255\n",
    "\n",
    "# print shapes for control\n",
    "print('x_train shape:', x_train.shape)\n",
    "print('x_train shape:', x_test.shape)\n",
    "print(x_train.shape[0], 'train samples')\n",
    "print(x_test.shape[0], 'test samples')"
   ]
  },
  {
   "cell_type": "code",
   "execution_count": 6,
   "metadata": {},
   "outputs": [],
   "source": [
    "# convert class vectors to binary class matrices\n",
    "y_train = keras.utils.to_categorical(y_train, num_classes)\n",
    "y_test = keras.utils.to_categorical(y_test, num_classes)"
   ]
  },
  {
   "cell_type": "markdown",
   "metadata": {},
   "source": [
    "#### Image augmentation"
   ]
  },
  {
   "cell_type": "code",
   "execution_count": 7,
   "metadata": {},
   "outputs": [],
   "source": [
    "datagen = ImageDataGenerator(\n",
    "        featurewise_center = False,\n",
    "        samplewise_center = False,\n",
    "        featurewise_std_normalization = False,\n",
    "        samplewise_std_normalization = False,\n",
    "        zca_whitening = False,\n",
    "        rotation_range = 10,\n",
    "        zoom_range = 0.1,\n",
    "        width_shift_range = 0.1,\n",
    "        height_shift_range = 0.1,\n",
    "        horizontal_flip = False,\n",
    "        vertical_flip = False)\n",
    "\n",
    "datagen.fit(x_train)"
   ]
  },
  {
   "cell_type": "code",
   "execution_count": 8,
   "metadata": {},
   "outputs": [
    {
     "name": "stdout",
     "output_type": "stream",
     "text": [
      "Train on 4000 samples, validate on 1000 samples\n",
      "Epoch 1/12\n",
      "4000/4000 [==============================] - 7s 2ms/step - loss: 1.2232 - acc: 0.5990 - val_loss: 0.6711 - val_acc: 0.7720\n",
      "Epoch 2/12\n",
      "4000/4000 [==============================] - 7s 2ms/step - loss: 0.4607 - acc: 0.8560 - val_loss: 0.3140 - val_acc: 0.9110\n",
      "Epoch 3/12\n",
      "4000/4000 [==============================] - 7s 2ms/step - loss: 0.2781 - acc: 0.9135 - val_loss: 0.2338 - val_acc: 0.9280\n",
      "Epoch 4/12\n",
      "4000/4000 [==============================] - 7s 2ms/step - loss: 0.2039 - acc: 0.9393 - val_loss: 0.2251 - val_acc: 0.9260\n",
      "Epoch 5/12\n",
      "4000/4000 [==============================] - 7s 2ms/step - loss: 0.1701 - acc: 0.9480 - val_loss: 0.2150 - val_acc: 0.9380\n",
      "Epoch 6/12\n",
      "4000/4000 [==============================] - 7s 2ms/step - loss: 0.1315 - acc: 0.9595 - val_loss: 0.2074 - val_acc: 0.9440\n",
      "Epoch 7/12\n",
      "4000/4000 [==============================] - 7s 2ms/step - loss: 0.1203 - acc: 0.9630 - val_loss: 0.1862 - val_acc: 0.9460\n",
      "Epoch 8/12\n",
      "4000/4000 [==============================] - 7s 2ms/step - loss: 0.0882 - acc: 0.9772 - val_loss: 0.1643 - val_acc: 0.9560\n",
      "Epoch 9/12\n",
      "4000/4000 [==============================] - 7s 2ms/step - loss: 0.0788 - acc: 0.9742 - val_loss: 0.1346 - val_acc: 0.9620\n",
      "Epoch 10/12\n",
      "4000/4000 [==============================] - 7s 2ms/step - loss: 0.0651 - acc: 0.9800 - val_loss: 0.1498 - val_acc: 0.9640\n",
      "Epoch 11/12\n",
      "4000/4000 [==============================] - 8s 2ms/step - loss: 0.0633 - acc: 0.9805 - val_loss: 0.1334 - val_acc: 0.9620\n",
      "Epoch 12/12\n",
      "4000/4000 [==============================] - 7s 2ms/step - loss: 0.0516 - acc: 0.9840 - val_loss: 0.1433 - val_acc: 0.9640\n",
      "Test loss: 0.14329299998283387\n",
      "Test accuracy: 0.964\n"
     ]
    }
   ],
   "source": [
    "model = Sequential()\n",
    "model.add(Conv2D(32, kernel_size=(3, 3),\n",
    "                 activation='relu',\n",
    "                 input_shape=input_shape))\n",
    "model.add(Conv2D(64, (3, 3), activation='relu'))\n",
    "model.add(MaxPooling2D(pool_size=(2, 2)))\n",
    "model.add(Dropout(0.25))\n",
    "model.add(Flatten())\n",
    "model.add(Dense(128, activation='relu'))\n",
    "model.add(Dropout(0.5))\n",
    "model.add(Dense(num_classes, activation='softmax'))\n",
    "\n",
    "model.compile(loss=keras.losses.categorical_crossentropy,\n",
    "              optimizer=keras.optimizers.Adadelta(),\n",
    "              metrics=['accuracy'])\n",
    "\n",
    "history = model.fit(x_train, y_train,\n",
    "          batch_size=batch_size,\n",
    "          epochs=epochs,\n",
    "          verbose=1,\n",
    "          validation_data=(x_test, y_test))\n",
    "\n",
    "score = model.evaluate(x_test, y_test, verbose=0)\n",
    "print('Test loss:', score[0])\n",
    "print('Test accuracy:', score[1])"
   ]
  },
  {
   "cell_type": "code",
   "execution_count": 9,
   "metadata": {},
   "outputs": [
    {
     "data": {
      "image/png": "[encoded data removed]",
      "text/plain": [
       "<Figure size 432x288 with 1 Axes>"
      ]
     },
     "metadata": {},
     "output_type": "display_data"
    },
    {
     "data": {
      "image/png": "[encoded data removed]",
      "text/plain": [
       "<Figure size 432x288 with 1 Axes>"
      ]
     },
     "metadata": {},
     "output_type": "display_data"
    }
   ],
   "source": [
    "# summarize history for accuracy\n",
    "plt.plot(history.history['acc'])\n",
    "plt.plot(history.history['val_acc'])\n",
    "plt.title('model accuracy')\n",
    "plt.ylabel('accuracy')\n",
    "plt.xlabel('epoch')\n",
    "plt.legend(['train', 'test'], loc='upper left')\n",
    "plt.show()\n",
    "\n",
    "# summarize history for loss\n",
    "plt.plot(history.history['loss'])\n",
    "plt.plot(history.history['val_loss'])\n",
    "plt.title('model loss')\n",
    "plt.ylabel('loss')\n",
    "plt.xlabel('epoch')\n",
    "plt.legend(['train', 'test'], loc='upper left')\n",
    "plt.show()"
   ]
  },
  {
   "cell_type": "markdown",
   "metadata": {},
   "source": [
    "### 2. Write Results to File"
   ]
  },
  {
   "cell_type": "code",
   "execution_count": 11,
   "metadata": {},
   "outputs": [],
   "source": [
    "test_data = pd.read_csv('data/test.csv')\n",
    "test_data[test_data>0]=1\n",
    "test_data = test_data.values.reshape(test_data.shape[0], img_rows, img_cols, 1)\n",
    "results = model.predict(test_data)\n",
    "results = np.argmax(results,axis = 1)\n",
    "\n",
    "df = pd.DataFrame(results)\n",
    "df.index.name='ImageId'\n",
    "df.index+=1\n",
    "df.columns=['Label']\n",
    "df.to_csv('submission.csv', header=True)"
   ]
  },
  {
   "cell_type": "code",
   "execution_count": null,
   "metadata": {},
   "outputs": [],
   "source": []
  }
 ],
 "metadata": {
  "kernelspec": {
   "display_name": "Python 3",
   "language": "python",
   "name": "python3"
  },
  "language_info": {
   "codemirror_mode": {
    "name": "ipython",
    "version": 3
   },
   "file_extension": ".py",
   "mimetype": "text/x-python",
   "name": "python",
   "nbconvert_exporter": "python",
   "pygments_lexer": "ipython3",
   "version": "3.6.7"
  }
 },
 "nbformat": 4,
 "nbformat_minor": 1
}
