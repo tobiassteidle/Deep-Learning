{
 "cells": [
  {
   "cell_type": "code",
   "execution_count": null,
   "metadata": {},
   "outputs": [],
   "source": []
  },
  {
   "cell_type": "code",
   "execution_count": 1,
   "metadata": {},
   "outputs": [
    {
     "name": "stderr",
     "output_type": "stream",
     "text": [
      "Using TensorFlow backend.\n"
     ]
    }
   ],
   "source": [
    "import keras\n",
    "from keras.models import Sequential\n",
    "from keras.layers import Dense, Dropout, Flatten\n",
    "from keras.layers import Conv2D, MaxPooling2D\n",
    "from keras import backend as K\n",
    "from keras.preprocessing.image import ImageDataGenerator\n",
    "from keras.optimizers import RMSprop\n",
    "import pandas as pd\n",
    "import numpy as np\n",
    "import matplotlib.pyplot as plt, matplotlib.image as mpimg\n",
    "from sklearn.model_selection import train_test_split\n",
    "%matplotlib inline"
   ]
  },
  {
   "cell_type": "code",
   "execution_count": 2,
   "metadata": {},
   "outputs": [
    {
     "name": "stderr",
     "output_type": "stream",
     "text": [
      "/Users/tsteidle/miniconda2/envs/drlnd/lib/python3.6/site-packages/sklearn/model_selection/_split.py:2069: FutureWarning: From version 0.21, test_size will always complement train_size unless both are specified.\n",
      "  FutureWarning)\n"
     ]
    }
   ],
   "source": [
    "# load training data\n",
    "labeled_images = pd.read_csv('data/train.csv')\n",
    "images = labeled_images.iloc[0:5000,1:]\n",
    "labels = labeled_images.iloc[0:5000,:1]\n",
    "\n",
    "x_train, x_test, y_train, y_test = train_test_split(images, labels, train_size=0.8, random_state=0)"
   ]
  },
  {
   "cell_type": "code",
   "execution_count": 3,
   "metadata": {},
   "outputs": [],
   "source": [
    "batch_size = 128\n",
    "num_classes = 10\n",
    "epochs = 15\n",
    "\n",
    "# input image dimensions\n",
    "img_rows, img_cols = 28, 28"
   ]
  },
  {
   "cell_type": "code",
   "execution_count": 4,
   "metadata": {},
   "outputs": [],
   "source": [
    "# reshape images\n",
    "x_train = x_train.values.reshape(x_train.shape[0], img_rows, img_cols, 1)\n",
    "x_test = x_test.values.reshape(x_test.shape[0], img_rows, img_cols, 1)\n",
    "input_shape = (img_rows, img_cols, 1)"
   ]
  },
  {
   "cell_type": "code",
   "execution_count": 5,
   "metadata": {},
   "outputs": [
    {
     "name": "stdout",
     "output_type": "stream",
     "text": [
      "x_train shape: (4000, 28, 28, 1)\n",
      "x_train shape: (1000, 28, 28, 1)\n",
      "4000 train samples\n",
      "1000 test samples\n"
     ]
    }
   ],
   "source": [
    "x_train = x_train.astype('float32')\n",
    "x_test = x_test.astype('float32')\n",
    "\n",
    "x_train /= 255\n",
    "x_test /= 255\n",
    "\n",
    "# print shapes for control\n",
    "print('x_train shape:', x_train.shape)\n",
    "print('x_train shape:', x_test.shape)\n",
    "print(x_train.shape[0], 'train samples')\n",
    "print(x_test.shape[0], 'test samples')"
   ]
  },
  {
   "cell_type": "code",
   "execution_count": 6,
   "metadata": {},
   "outputs": [],
   "source": [
    "# convert class vectors to binary class matrices\n",
    "y_train = keras.utils.to_categorical(y_train, num_classes)\n",
    "y_test = keras.utils.to_categorical(y_test, num_classes)"
   ]
  },
  {
   "cell_type": "markdown",
   "metadata": {},
   "source": [
    "#### Image augmentation"
   ]
  },
  {
   "cell_type": "code",
   "execution_count": 7,
   "metadata": {},
   "outputs": [],
   "source": [
    "datagen = ImageDataGenerator(\n",
    "        featurewise_center = False,\n",
    "        samplewise_center = False,\n",
    "        featurewise_std_normalization = False,\n",
    "        samplewise_std_normalization = False,\n",
    "        zca_whitening = False,\n",
    "        rotation_range = 10,\n",
    "        zoom_range = 0.1,\n",
    "        width_shift_range = 0.1,\n",
    "        height_shift_range = 0.1,\n",
    "        horizontal_flip = False,\n",
    "        vertical_flip = False)\n",
    "\n",
    "datagen.fit(x_train)"
   ]
  },
  {
   "cell_type": "markdown",
   "metadata": {},
   "source": [
    "#### Training"
   ]
  },
  {
   "cell_type": "code",
   "execution_count": 8,
   "metadata": {},
   "outputs": [
    {
     "name": "stdout",
     "output_type": "stream",
     "text": [
      "Train on 4000 samples, validate on 1000 samples\n",
      "Epoch 1/15\n",
      "4000/4000 [==============================] - 18s 4ms/step - loss: 1.1906 - acc: 0.5970 - val_loss: 0.4043 - val_acc: 0.8780\n",
      "Epoch 2/15\n",
      "4000/4000 [==============================] - 18s 4ms/step - loss: 0.3298 - acc: 0.8930 - val_loss: 0.2053 - val_acc: 0.9410\n",
      "Epoch 3/15\n",
      "4000/4000 [==============================] - 18s 5ms/step - loss: 0.2059 - acc: 0.9370 - val_loss: 0.2472 - val_acc: 0.9160\n",
      "Epoch 4/15\n",
      "4000/4000 [==============================] - 20s 5ms/step - loss: 0.1613 - acc: 0.9490 - val_loss: 0.2092 - val_acc: 0.9400\n",
      "Epoch 5/15\n",
      "4000/4000 [==============================] - 19s 5ms/step - loss: 0.1271 - acc: 0.9595 - val_loss: 0.1522 - val_acc: 0.9580\n",
      "Epoch 6/15\n",
      "4000/4000 [==============================] - 18s 5ms/step - loss: 0.0963 - acc: 0.9705 - val_loss: 0.0946 - val_acc: 0.9710\n",
      "Epoch 7/15\n",
      "4000/4000 [==============================] - 18s 5ms/step - loss: 0.0912 - acc: 0.9698 - val_loss: 0.0970 - val_acc: 0.9710\n",
      "Epoch 8/15\n",
      "4000/4000 [==============================] - 19s 5ms/step - loss: 0.0759 - acc: 0.9805 - val_loss: 0.0859 - val_acc: 0.9700\n",
      "Epoch 9/15\n",
      "4000/4000 [==============================] - 19s 5ms/step - loss: 0.0639 - acc: 0.9770 - val_loss: 0.1195 - val_acc: 0.9660\n",
      "Epoch 10/15\n",
      "4000/4000 [==============================] - 18s 5ms/step - loss: 0.0589 - acc: 0.9810 - val_loss: 0.0818 - val_acc: 0.9810\n",
      "Epoch 11/15\n",
      "4000/4000 [==============================] - 19s 5ms/step - loss: 0.0463 - acc: 0.9845 - val_loss: 0.1233 - val_acc: 0.9590\n",
      "Epoch 12/15\n",
      "4000/4000 [==============================] - 18s 4ms/step - loss: 0.0453 - acc: 0.9832 - val_loss: 0.0877 - val_acc: 0.9730\n",
      "Epoch 13/15\n",
      "4000/4000 [==============================] - 18s 4ms/step - loss: 0.0363 - acc: 0.9873 - val_loss: 0.1147 - val_acc: 0.9700\n",
      "Epoch 14/15\n",
      "4000/4000 [==============================] - 18s 4ms/step - loss: 0.0333 - acc: 0.9888 - val_loss: 0.1055 - val_acc: 0.9760\n",
      "Epoch 15/15\n",
      "4000/4000 [==============================] - 18s 4ms/step - loss: 0.0298 - acc: 0.9898 - val_loss: 0.0860 - val_acc: 0.9750\n",
      "Test loss: 0.08598490443988703\n",
      "Test accuracy: 0.975\n"
     ]
    }
   ],
   "source": [
    "model = Sequential()\n",
    "model.add(Conv2D(filters = 32, kernel_size = (5,5),\n",
    "                 padding = 'Same', \n",
    "                 activation ='relu', \n",
    "                 input_shape = (28,28,1)))\n",
    "model.add(Conv2D(filters = 32, kernel_size = (5,5),\n",
    "                 padding = 'Same', \n",
    "                 activation ='relu'))\n",
    "model.add(MaxPooling2D(pool_size=(2,2)))\n",
    "model.add(Dropout(0.25))\n",
    "model.add(Conv2D(filters = 64, kernel_size = (3,3),\n",
    "                 padding = 'Same', \n",
    "                 activation ='relu'))\n",
    "model.add(Conv2D(filters = 64, kernel_size = (3,3),\n",
    "                 padding = 'Same', \n",
    "                 activation ='relu'))\n",
    "model.add(MaxPooling2D(pool_size=(2,2), strides=(2,2)))\n",
    "model.add(Dropout(0.3))\n",
    "model.add(Flatten())\n",
    "model.add(Dense(256, activation = \"relu\"))\n",
    "model.add(Dropout(0.5))\n",
    "model.add(Dense(10, activation = \"softmax\"))\n",
    "\n",
    "optimizer = RMSprop(lr=0.001, rho=0.9, epsilon=1e-08, decay=0.0)\n",
    "\n",
    "model.compile(loss=keras.losses.categorical_crossentropy,\n",
    "              optimizer=optimizer,\n",
    "              metrics=['accuracy'])\n",
    "\n",
    "history = model.fit(x_train, y_train,\n",
    "          batch_size=batch_size,\n",
    "          epochs=epochs,\n",
    "          verbose=1,\n",
    "          validation_data=(x_test, y_test))\n",
    "\n",
    "score = model.evaluate(x_test, y_test, verbose=0)\n",
    "print('Test loss:', score[0])\n",
    "print('Test accuracy:', score[1])"
   ]
  },
  {
   "cell_type": "code",
   "execution_count": 9,
   "metadata": {},
   "outputs": [
    {
     "data": {
      "image/png": "[encoded data removed]",
      "text/plain": [
       "<Figure size 432x288 with 1 Axes>"
      ]
     },
     "metadata": {},
     "output_type": "display_data"
    },
    {
     "data": {
      "image/png": "[encoded data removed]",
      "text/plain": [
       "<Figure size 432x288 with 1 Axes>"
      ]
     },
     "metadata": {},
     "output_type": "display_data"
    }
   ],
   "source": [
    "# summarize history for accuracy\n",
    "plt.plot(history.history['acc'])\n",
    "plt.plot(history.history['val_acc'])\n",
    "plt.title('model accuracy')\n",
    "plt.ylabel('accuracy')\n",
    "plt.xlabel('epoch')\n",
    "plt.legend(['train', 'test'], loc='upper left')\n",
    "plt.show()\n",
    "\n",
    "# summarize history for loss\n",
    "plt.plot(history.history['loss'])\n",
    "plt.plot(history.history['val_loss'])\n",
    "plt.title('model loss')\n",
    "plt.ylabel('loss')\n",
    "plt.xlabel('epoch')\n",
    "plt.legend(['train', 'test'], loc='upper left')\n",
    "plt.show()"
   ]
  },
  {
   "cell_type": "markdown",
   "metadata": {},
   "source": [
    "### 2. Write Results to File"
   ]
  },
  {
   "cell_type": "code",
   "execution_count": 10,
   "metadata": {},
   "outputs": [],
   "source": [
    "test_data = pd.read_csv('data/test.csv')\n",
    "test_data[test_data>0]=1\n",
    "test_data = test_data.values.reshape(test_data.shape[0], img_rows, img_cols, 1)\n",
    "results = model.predict(test_data)\n",
    "results = np.argmax(results,axis = 1)\n",
    "\n",
    "df = pd.DataFrame(results)\n",
    "df.index.name='ImageId'\n",
    "df.index+=1\n",
    "df.columns=['Label']\n",
    "df.to_csv('data/submission.csv', header=True)"
   ]
  },
  {
   "cell_type": "code",
   "execution_count": null,
   "metadata": {},
   "outputs": [],
   "source": []
  }
 ],
 "metadata": {
  "kernelspec": {
   "display_name": "Python 3",
   "language": "python",
   "name": "python3"
  },
  "language_info": {
   "codemirror_mode": {
    "name": "ipython",
    "version": 3
   },
   "file_extension": ".py",
   "mimetype": "text/x-python",
   "name": "python",
   "nbconvert_exporter": "python",
   "pygments_lexer": "ipython3",
   "version": "3.6.7"
  }
 },
 "nbformat": 4,
 "nbformat_minor": 1
}
